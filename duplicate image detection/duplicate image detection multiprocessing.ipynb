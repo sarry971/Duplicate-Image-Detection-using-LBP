{
 "cells": [
  {
   "cell_type": "code",
   "execution_count": 1,
   "metadata": {},
   "outputs": [],
   "source": [
    "# importing libraries \n",
    "\n",
    "import hashlib\n",
    "from imageio import imread \n",
    "import matplotlib.pyplot as plt\n",
    "import matplotlib.gridspec as gridspec\n",
    "%matplotlib inline\n",
    "import numpy as np"
   ]
  },
  {
   "cell_type": "code",
   "execution_count": 2,
   "metadata": {},
   "outputs": [],
   "source": [
    "# sklearn has lbp enable feature\n",
    "\n",
    "from skimage import feature"
   ]
  },
  {
   "cell_type": "code",
   "execution_count": 3,
   "metadata": {},
   "outputs": [],
   "source": [
    "import time\n",
    "import concurrent.futures\n"
   ]
  },
  {
   "cell_type": "code",
   "execution_count": 4,
   "metadata": {},
   "outputs": [],
   "source": [
    "# parallel time\n",
    "start = time.perf_counter()"
   ]
  },
  {
   "cell_type": "code",
   "execution_count": 5,
   "metadata": {},
   "outputs": [],
   "source": [
    "def lbp_features(img , radius = 1, sampling_pixels=8):\n",
    "    \n",
    "    # LBP operates in single channel images so if RGB images are provided\n",
    "    # we have to convert it to grayscale\n",
    "    if (len(img.shape) >2):\n",
    "        img = img.astype(float)\n",
    "        # RGB to grayscale convertion using Luminance\n",
    "        img = img[:,:,0]*0.3 + img[:,:,1]*0.59 + img[:,:,2]*0.11\n",
    "        \n",
    "    # converting to unside_int8 (uint8) type for 256 graylevels\n",
    "    img = img.astype(np.uint8)\n",
    "    \n",
    "    # normalize values can also help improving description \n",
    "    i_min = np.min(img)\n",
    "    i_max = np.max(img)\n",
    "    if (i_max -i_min !=0):\n",
    "        img = (img - i_min)/(i_max - i_min)\n",
    "        \n",
    "    #compute LBP\n",
    "    lbp = feature.local_binary_pattern(img, sampling_pixels, radius, method = \"uniform\")\n",
    "    \n",
    "    # LBP returns a matrix with the codes, so we compute the histogram\n",
    "    (hist, _) = np.histogram(lbp.ravel(), bins = np.arange(0, sampling_pixels +3), range=(0,255))\n",
    "    \n",
    "    #normalization\n",
    "    hist = hist.astype(\"float\")\n",
    "    hist /= (hist.sum() + 1e-6)\n",
    "    #return the histogram of local binary patterns\n",
    "    return hist\n",
    "\n",
    "\n",
    "def Euclidean_distance(p,q):\n",
    "    dist = np.sqrt(np.sum(np.square(p-q)))\n",
    "    return dist\n",
    "    "
   ]
  },
  {
   "cell_type": "code",
   "execution_count": 6,
   "metadata": {},
   "outputs": [
    {
     "data": {
      "text/plain": [
       "'C:\\\\Users\\\\Agupta\\\\Downloads\\\\duplicate image detection'"
      ]
     },
     "execution_count": 6,
     "metadata": {},
     "output_type": "execute_result"
    }
   ],
   "source": [
    "import os \n",
    "os.getcwd()"
   ]
  },
  {
   "cell_type": "code",
   "execution_count": 7,
   "metadata": {},
   "outputs": [],
   "source": [
    "os.chdir(r'..\\\\100_Images_Lab')"
   ]
  },
  {
   "cell_type": "code",
   "execution_count": 8,
   "metadata": {},
   "outputs": [
    {
     "data": {
      "text/plain": [
       "107"
      ]
     },
     "execution_count": 8,
     "metadata": {},
     "output_type": "execute_result"
    }
   ],
   "source": [
    "files_list=os.listdir()\n",
    "len(files_list)"
   ]
  },
  {
   "cell_type": "code",
   "execution_count": 9,
   "metadata": {},
   "outputs": [],
   "source": [
    "img = []\n",
    "lbp_n =[]\n",
    "dQ_H = []\n",
    "dup = []"
   ]
  },
  {
   "cell_type": "code",
   "execution_count": 10,
   "metadata": {},
   "outputs": [],
   "source": [
    "import hashlib, os \n",
    "import imageio\n",
    "\n",
    "for index, filename in enumerate(os.listdir('.')):\n",
    "    if os.path.isfile(filename):\n",
    "        with open(filename,'rb') as f:\n",
    "            img.append(imageio.imread(f.read()))            "
   ]
  },
  {
   "cell_type": "code",
   "execution_count": 11,
   "metadata": {},
   "outputs": [],
   "source": [
    "import hashlib, os \n",
    "import imageio\n",
    "duplicates = []\n",
    "hash_keys =dict()\n",
    "hash_code=[]\n",
    "for index in range(len(img)):\n",
    "    image_num = hashlib.md5(img[index]).hexdigest()\n",
    "    hash_code.append(image_num)\n",
    "    if image_num not in hash_keys:\n",
    "        hash_keys[image_num] = index\n",
    "    else :\n",
    "        duplicates.append((index,hash_keys[image_num]))"
   ]
  },
  {
   "cell_type": "code",
   "execution_count": 12,
   "metadata": {},
   "outputs": [
    {
     "data": {
      "text/plain": [
       "[(28, 27), (41, 40), (68, 67), (80, 79), (84, 83), (87, 86), (99, 98)]"
      ]
     },
     "execution_count": 12,
     "metadata": {},
     "output_type": "execute_result"
    }
   ],
   "source": [
    "duplicates"
   ]
  },
  {
   "cell_type": "code",
   "execution_count": 13,
   "metadata": {},
   "outputs": [],
   "source": [
    "def detectDup(img):\n",
    "    for i in range (len(img)):\n",
    "        lbp_n.append(lbp_features(img[i],2,8))\n",
    "        \n",
    "    # compute euclidean distance\n",
    "    for i in range (len(img)):\n",
    "        for j in range (len(img)):\n",
    "            dQ_H.append(Euclidean_distance(lbp_n[i],lbp_n[j]))\n",
    "\n",
    "    for i in range (len(img)):\n",
    "        for j in range (len(img)):\n",
    "            if dQ_H[i] == dQ_H[j] and hash_code[i]==hash_code[j] and i != j:\n",
    "                dup.append((i,j)) \n",
    "                \n",
    "    for file_indexes in duplicates[:30]:\n",
    "        try:\n",
    "            plt.subplot(121),plt.imshow(imread(files_list[file_indexes[1]]))\n",
    "            plt.title(str(file_indexes[1])+' original file'), plt.xticks([]), plt.yticks([])\n",
    "\n",
    "            plt.subplot(122),plt.imshow(imread(files_list[file_indexes[0]]))\n",
    "            plt.title(str(file_indexes[0])+' duplicate file'), plt.xticks([]), plt.yticks([])\n",
    "            plt.show()\n",
    "\n",
    "        except OSError as e:\n",
    "            continue      \n",
    "            \n",
    "        img1=imageio.imread('..\\\\100_Images_Lab\\\\1.jpg')\n",
    "        img2=imageio.imread('..\\\\100_Images_Lab\\\\80 - Copy.jpg')\n",
    "        img3=imageio.imread('..\\\\100_Images_Lab\\\\80.jpg')\n",
    "        img4=imageio.imread('..\\\\100_Images_Lab\\\\31.jpg')\n",
    "        img5=imageio.imread('..\\\\100_Images_Lab\\\\32.jpg')\n",
    "        img6=imageio.imread('..\\\\100_Images_Lab\\\\4.jpg')\n",
    "\n",
    "        lbp1=lbp_features(img1,2,8)\n",
    "        lbp2=lbp_features(img2,2,8)\n",
    "        lbp3=lbp_features(img3,2,8)\n",
    "        lbp4=lbp_features(img4,2,8)\n",
    "        lbp5=lbp_features(img5,2,8)\n",
    "        lbp6=lbp_features(img6,2,8)\n",
    "\n",
    "        dQ1_H = Euclidean_distance(lbp1,lbp2)\n",
    "        dQ2_H = Euclidean_distance(lbp1,lbp3)\n",
    "        dQ3_H = Euclidean_distance(lbp1,lbp4)\n",
    "        dQ4_H = Euclidean_distance(lbp1,lbp6)\n",
    "        dQ5_H = Euclidean_distance(lbp1,lbp6)\n",
    "        dQ6_H = Euclidean_distance(lbp1,lbp1)\n",
    "        \n",
    "\n",
    "        plt.figure(figsize =(10,8))\n",
    "        plt.subplot(231); plt.imshow(img1) ; plt.title('ORIGINAL')\n",
    "        plt.subplot(232); plt.imshow(img2) ; plt.title('rank 1: %.4f' %dQ1_H)\n",
    "        plt.subplot(233); plt.imshow(img3) ; plt.title('rank 2: %.4f' %dQ2_H)\n",
    "        plt.subplot(234); plt.imshow(img4) ; plt.title('rank 3: %.4f' %dQ3_H)\n",
    "        plt.subplot(235); plt.imshow(img5) ; plt.title('rank 4: %.4f' %dQ4_H)\n",
    "        plt.subplot(236); plt.imshow(img5) ; plt.title('rank 5: %.4f' %dQ5_H)\n",
    "        \n",
    "        vals = range(len(lbp1))\n",
    "        plt.figure(figsize =(10,5))\n",
    "        plt.subplot(231); plt.bar(vals,lbp1);\n",
    "        plt.title('ORIGINAL'); plt.axis('off')\n",
    "\n",
    "        plt.subplot(232); plt.bar(vals,lbp2);\n",
    "        plt.title('rank 1'); plt.axis('off')\n",
    "\n",
    "        plt.subplot(233); plt.bar(vals,lbp3);\n",
    "        plt.title('rank 2'); plt.axis('off')\n",
    "\n",
    "        plt.subplot(234); plt.bar(vals,lbp4);\n",
    "        plt.title('rank 3'); plt.axis('off')\n",
    "\n",
    "        plt.subplot(235); plt.bar(vals,lbp5);\n",
    "        plt.title('rank 4'); plt.axis('off')\n",
    "\n",
    "        plt.subplot(236); plt.bar(vals,lbp6);\n",
    "        plt.title('rank 5'); plt.axis('off')\n",
    "        \n"
   ]
  },
  {
   "cell_type": "code",
   "execution_count": 14,
   "metadata": {},
   "outputs": [],
   "source": [
    "#print(dQ_H[0],dQ_H[54],dQ_H[55])"
   ]
  },
  {
   "cell_type": "code",
   "execution_count": 15,
   "metadata": {},
   "outputs": [],
   "source": [
    "# hash_keys.values()"
   ]
  },
  {
   "cell_type": "code",
   "execution_count": 16,
   "metadata": {},
   "outputs": [],
   "source": [
    "# print(len(dup))\n",
    "# print(dup)"
   ]
  },
  {
   "cell_type": "code",
   "execution_count": 17,
   "metadata": {},
   "outputs": [],
   "source": [
    "with concurrent.futures.ProcessPoolExecutor() as executor:\n",
    "    executor.map(detectDup,img)"
   ]
  },
  {
   "cell_type": "code",
   "execution_count": 18,
   "metadata": {},
   "outputs": [],
   "source": [
    "# dQ7_H = Euclidean_distance(lbp2,lbp1)\n",
    "# dQ7_H"
   ]
  },
  {
   "cell_type": "code",
   "execution_count": 19,
   "metadata": {},
   "outputs": [
    {
     "data": {
      "text/plain": [
       "107"
      ]
     },
     "execution_count": 19,
     "metadata": {},
     "output_type": "execute_result"
    }
   ],
   "source": [
    "files_list=os.listdir()\n",
    "len(files_list)"
   ]
  },
  {
   "cell_type": "code",
   "execution_count": 20,
   "metadata": {},
   "outputs": [],
   "source": [
    "end = time.perf_counter()"
   ]
  },
  {
   "cell_type": "code",
   "execution_count": 21,
   "metadata": {},
   "outputs": [
    {
     "name": "stdout",
     "output_type": "stream",
     "text": [
      "Parallel time = 1.27 seconds\n"
     ]
    }
   ],
   "source": [
    "print(f'Parallel time = {round(end-start,2)} seconds')"
   ]
  },
  {
   "cell_type": "code",
   "execution_count": 22,
   "metadata": {},
   "outputs": [
    {
     "data": {
      "text/plain": [
       "'\"\\nfor index in duplicates:\\n    os.remove(files_list[index[0]]) '"
      ]
     },
     "execution_count": 22,
     "metadata": {},
     "output_type": "execute_result"
    }
   ],
   "source": [
    "# delete duplicate files \n",
    "\"\"\"\"\n",
    "for index in duplicates:\n",
    "    os.remove(files_list[index[0]]) \"\"\""
   ]
  }
 ],
 "metadata": {
  "kernelspec": {
   "display_name": "Python 3",
   "language": "python",
   "name": "python3"
  },
  "language_info": {
   "codemirror_mode": {
    "name": "ipython",
    "version": 3
   },
   "file_extension": ".py",
   "mimetype": "text/x-python",
   "name": "python",
   "nbconvert_exporter": "python",
   "pygments_lexer": "ipython3",
   "version": "3.8.5"
  }
 },
 "nbformat": 4,
 "nbformat_minor": 2
}
